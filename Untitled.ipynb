{
 "cells": [
  {
   "cell_type": "code",
   "execution_count": 1,
   "id": "78d0f4ce",
   "metadata": {},
   "outputs": [
    {
     "name": "stdout",
     "output_type": "stream",
     "text": [
      "From scale 1 - 10, how stress are you?5\n",
      "Probability of stress: 0.5\n"
     ]
    }
   ],
   "source": [
    "stress_level = int(input(\"From scale 1 - 10, how stress are you?\"))\n",
    "if stress_level<=10 and stress_level>=1 :\n",
    "    stress_prob = stress_level/10\n",
    "else:\n",
    "    print(\"Out of range given!\")\n",
    "print(\"Probability of stress:\", stress_prob)"
   ]
  },
  {
   "cell_type": "code",
   "execution_count": null,
   "id": "91effd90",
   "metadata": {},
   "outputs": [],
   "source": []
  }
 ],
 "metadata": {
  "kernelspec": {
   "display_name": "Python 3 (ipykernel)",
   "language": "python",
   "name": "python3"
  },
  "language_info": {
   "codemirror_mode": {
    "name": "ipython",
    "version": 3
   },
   "file_extension": ".py",
   "mimetype": "text/x-python",
   "name": "python",
   "nbconvert_exporter": "python",
   "pygments_lexer": "ipython3",
   "version": "3.10.4"
  }
 },
 "nbformat": 4,
 "nbformat_minor": 5
}
